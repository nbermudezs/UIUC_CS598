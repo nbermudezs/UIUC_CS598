{
 "cells": [
  {
   "cell_type": "code",
   "execution_count": 2,
   "metadata": {},
   "outputs": [],
   "source": [
    "import numpy as np\n",
    "import pandas as pd\n"
   ]
  },
  {
   "cell_type": "code",
   "execution_count": 96,
   "metadata": {},
   "outputs": [],
   "source": [
    "# with 22 classes\n",
    "datf1 = np.load(\"processed/mashup.human-features.npy\")\n",
    "label1 = np.load(\"processed/mashup.human-labels.npy\")"
   ]
  },
  {
   "cell_type": "code",
   "execution_count": 71,
   "metadata": {},
   "outputs": [],
   "source": [
    "# With 122 classes\n",
    "datf2 = np.load(\"processed-211-labels/processed/mashup.human-features.npy\")\n",
    "label2 = np.load(\"processed-211-labels/processed/mashup.human-labels.npy\")"
   ]
  },
  {
   "cell_type": "code",
   "execution_count": 97,
   "metadata": {},
   "outputs": [],
   "source": [
    "h_features= datf1\n",
    "h_labels = label1"
   ]
  },
  {
   "cell_type": "code",
   "execution_count": 98,
   "metadata": {},
   "outputs": [
    {
     "name": "stdout",
     "output_type": "stream",
     "text": [
      "(9190L, 800L)\n",
      "(9190L, 22L)\n"
     ]
    }
   ],
   "source": [
    "print h_features.shape\n",
    "print h_labels.shape"
   ]
  },
  {
   "cell_type": "code",
   "execution_count": 99,
   "metadata": {},
   "outputs": [],
   "source": [
    "from sklearn.model_selection import train_test_split\n",
    "x_Train, x_Test, y_Train,  y_Test = train_test_split(h_features,h_labels,test_size=0.2, random_state=1 )"
   ]
  },
  {
   "cell_type": "code",
   "execution_count": 3,
   "metadata": {},
   "outputs": [],
   "source": [
    "from sklearn.multiclass import OneVsRestClassifier\n",
    "from sklearn.model_selection import cross_val_score\n",
    "from sklearn.metrics import precision_score, f1_score,recall_score, accuracy_score\n",
    "\n",
    "def classify(method, cv= [False,3]):\n",
    "    if cv[0]:\n",
    "        print \"Cross Validating.....\"\n",
    "        print h_features.shape, h_labels.shape\n",
    "        cv_score= cross_val_score(method, h_features, h_labels)\n",
    "        return cv_score, None\n",
    "        \n",
    "    print \"Training -> {0}  - Classifier.................\".format(str(method))   \n",
    "    classifier = OneVsRestClassifier(method)\n",
    "    classifier.fit(x_Train,y_Train)\n",
    "    predicted = classifier.predict(x_Test)\n",
    "    score = classifier.score(x_Test,y_Test)\n",
    "    print \"F1 macro\"\n",
    "    print f1_score(y_Test, predicted, average='macro')\n",
    "    print \"F1 Micro\"\n",
    "    print f1_score(y_Test, predicted, average='micro')\n",
    "    \n",
    "    print \"Recall macro\"\n",
    "    print recall_score(y_Test, predicted, average='macro')\n",
    "    print \"Recall Micro\"\n",
    "    print recall_score(y_Test, predicted, average='micro')\n",
    "    \n",
    "    print \"Accuracy\"\n",
    "    print accuracy_score(y_Test, predicted)\n",
    "    class_metrics(predicted,y_Test)\n",
    "    \n",
    "    \n",
    "    return score, predicted\n"
   ]
  },
  {
   "cell_type": "code",
   "execution_count": 4,
   "metadata": {},
   "outputs": [],
   "source": [
    "#class wise metrics\n",
    "def class_metrics(predicted, true_labels):\n",
    "    if predicted.shape != true_labels.shape:\n",
    "        print \"Incompatible shapes. Unable to compute classwise metrics\"\n",
    "    print \"Total Classes: {0}\".format(predicted.shape[1])\n",
    "    f1_macro=[]\n",
    "    recall_macro=[]\n",
    "    accuracy=[]\n",
    "    for k in range(predicted.shape[1]):\n",
    "        \n",
    "        recall_macro.append(recall_score(predicted[:,k], true_labels[:,k], average='macro'))\n",
    "        \n",
    "        f1_macro.append(f1_score(predicted[:,k], true_labels[:,k], average='macro'))\n",
    "        \n",
    "        accuracy.append(accuracy_score(predicted[:,k], true_labels[:,k]))\n",
    "    print \" \"    \n",
    "    print \" *Classwise Recall macro\"\n",
    "    print recall_macro\n",
    "    \n",
    "    print \"............................. \"\n",
    "    print \" *Classwise F1 Macro\"\n",
    "    print f1_macro\n",
    "    \n",
    "    print \"...............................\"\n",
    "    print \" *Classwise Accuracy\"\n",
    "    print accuracy\n",
    "    \n",
    "    \n",
    "    "
   ]
  },
  {
   "cell_type": "code",
   "execution_count": 120,
   "metadata": {},
   "outputs": [
    {
     "name": "stdout",
     "output_type": "stream",
     "text": [
      "Training -> SVC(C=1.0, cache_size=200, class_weight=None, coef0=0.0,\n",
      "  decision_function_shape='ovr', degree=3, gamma='auto_deprecated',\n",
      "  kernel='rbf', max_iter=-1, probability=False, random_state=None,\n",
      "  shrinking=True, tol=0.001, verbose=False)  - Classifier.....\n",
      "F1 macro\n",
      "0.08687997373327722\n",
      "F1 Micro\n",
      "0.7899495127392275\n",
      "Recall macro\n",
      "0.09090909090909091\n",
      "Recall Micro\n",
      "0.6948977483990911\n",
      "Accuracy\n",
      "0.6441784548422198\n",
      "Total Classes: 22\n",
      " \n",
      " *Classwise Recall macro\n",
      "[0.49918389553862896, 0.48612622415669204, 0.47606093579978237, 0.4589227421109902, 0.45620239390642003, 0.48639825897714906, 0.4804134929270947, 0.4804134929270947, 0.48667029379760607, 0.4885745375408052, 0.48911860718171923, 0.44151251360174104, 0.47578890097932536, 0.4768770402611534, 0.4768770402611534, 0.47850924918389554, 0.4431447225244831, 0.48694232861806314, 0.485582154515778, 0.48721436343852015, 0.485310119695321, 0.48748639825897716]\n",
      "............................. \n",
      " *Classwise F1 Macro\n",
      "[0.49959161448407297, 0.4929655172413793, 0.487736900780379, 0.4785815602836879, 0.47709815078236134, 0.4931053502482074, 0.4900110987791343, 0.4900110987791343, 0.49324510614833195, 0.4942212438084755, 0.49449944994499445, 0.46893961282866226, 0.48759408976860885, 0.4881648565859092, 0.4881648565859092, 0.4890186266333055, 0.46985866743582344, 0.49338478500551264, 0.4926856196522219, 0.49352438688343897, 0.492545554942021, 0.49366391184573]\n",
      "...............................\n",
      " *Accuracy\n",
      "[0.9983677910772579, 0.9722524483133841, 0.9521218715995647, 0.9178454842219804, 0.9124047878128401, 0.9727965179542981, 0.9608269858541894, 0.9608269858541894, 0.9733405875952121, 0.9771490750816104, 0.9782372143634385, 0.8830250272034821, 0.9515778019586507, 0.9537540805223068, 0.9537540805223068, 0.9570184983677911, 0.8862894450489662, 0.9738846572361263, 0.971164309031556, 0.9744287268770403, 0.970620239390642, 0.9749727965179543]\n"
     ]
    }
   ],
   "source": [
    "from sklearn.svm import SVC\n",
    "scoresvc, predictedsvc = classify(SVC(C=1.0, kernel='rbf'))\n"
   ]
  },
  {
   "cell_type": "code",
   "execution_count": 117,
   "metadata": {},
   "outputs": [
    {
     "name": "stdout",
     "output_type": "stream",
     "text": [
      "Training -> LogisticRegression(C=1.0, class_weight=None, dual=False, fit_intercept=True,\n",
      "          intercept_scaling=1, max_iter=100, multi_class='warn',\n",
      "          n_jobs=None, penalty='l2', random_state=None, solver='warn',\n",
      "          tol=0.0001, verbose=0, warm_start=False)  - Classifier.....\n",
      "F1 macro\n",
      "0.10903197430078516\n",
      "F1 Micro\n",
      "0.7719298245614035\n",
      "Recall macro\n",
      "0.10252692844356832\n",
      "Recall Micro\n",
      "0.69076637058459\n",
      "Accuracy\n",
      "0.6033732317736671\n",
      "Total Classes: 22\n",
      " *Classwise Recall macro\n",
      "[0.49918389553862896, 0.4861111111111111, 0.4758771929824561, 0.5126874506708761, 0.5063053097345133, 0.5250368809272918, 0.5190094836670179, 0.591974971143916, 0.4866412213740458, 0.4885558583106267, 0.7393790849673203, 0.555214126807564, 0.5475798872180451, 0.5541833508956797, 0.5681942578494302, 0.47840349917987973, 0.5696607341490545, 0.4869209809264305, 0.6108233369683751, 0.4871864776444929, 0.48527004909983634, 0.7377450980392157]\n",
      "............................. \n",
      " *Classwise F1 Macro\n",
      "[0.49959161448407297, 0.49268561965222185, 0.48573027420257414, 0.4920242889755465, 0.48916448203595064, 0.5074312777052882, 0.5002080364309466, 0.5139820395267776, 0.4926856196522219, 0.49380335995593505, 0.5183059464842623, 0.5006551232009905, 0.5055635714460395, 0.5072723331926399, 0.5079841713221601, 0.48773690078037907, 0.5067494957946757, 0.4929655172413793, 0.509945075454594, 0.4929655172413793, 0.4918440696709981, 0.5144937522969497]\n",
      "...............................\n",
      " *Accuracy\n",
      "[0.9983677910772579, 0.971164309031556, 0.9445048966267682, 0.9058759521218716, 0.8993471164309031, 0.9668117519042437, 0.954842219804135, 0.9581066376496191, 0.971164309031556, 0.9755168661588683, 0.9782372143634385, 0.8710554951033732, 0.9461371055495104, 0.9488574537540805, 0.9499455930359086, 0.9521218715995647, 0.8754080522306855, 0.9722524483133841, 0.970076169749728, 0.9722524483133841, 0.9678998911860718, 0.9749727965179543]\n"
     ]
    },
    {
     "name": "stderr",
     "output_type": "stream",
     "text": [
      "C:\\Users\\ijet\\Anaconda3\\envs\\ml_py2\\lib\\site-packages\\sklearn\\metrics\\classification.py:1145: UndefinedMetricWarning: Recall is ill-defined and being set to 0.0 in labels with no true samples.\n",
      "  'recall', 'true', average, warn_for)\n",
      "C:\\Users\\ijet\\Anaconda3\\envs\\ml_py2\\lib\\site-packages\\sklearn\\metrics\\classification.py:1145: UndefinedMetricWarning: F-score is ill-defined and being set to 0.0 in labels with no true samples.\n",
      "  'recall', 'true', average, warn_for)\n"
     ]
    }
   ],
   "source": [
    "from sklearn.linear_model import LogisticRegression\n",
    "score, predicted = classify(LogisticRegression())\n"
   ]
  },
  {
   "cell_type": "code",
   "execution_count": 116,
   "metadata": {},
   "outputs": [
    {
     "name": "stdout",
     "output_type": "stream",
     "text": [
      "Training -> GaussianNB(priors=None, var_smoothing=1e-09)  - Classifier.....\n",
      "F1 macro\n",
      "0.13853109539512207\n",
      "F1 Micro\n",
      "0.34824843664622673\n",
      "Recall macro\n",
      "0.3050741089578637\n",
      "Recall Micro\n",
      "0.592439578599463\n",
      "Accuracy\n",
      "0.06311207834602829\n",
      "Total Classes: 22\n",
      " *Classwise Recall macro\n",
      "[0.5013371908056947, 0.5010056696719026, 0.4989416719868716, 0.5039047275145012, 0.5063107217210271, 0.49914078146475555, 0.5000797880629577, 0.5047677547677548, 0.49363125056591217, 0.5005302219458299, 0.4975037760276189, 0.5133472341120848, 0.5138247413240545, 0.5123374280560089, 0.5117199133613104, 0.4969565344565345, 0.5139730886908088, 0.4953822758518372, 0.509559135226791, 0.49915703444249854, 0.501134857284544, 0.4995750387427254]\n",
      "............................. \n",
      " *Classwise F1 Macro\n",
      "[0.46659944485098714, 0.4005101315321721, 0.4452512210189447, 0.46921633568596743, 0.4757611964375865, 0.4460917812499422, 0.40958784895800054, 0.49686346786360575, 0.4611144618683823, 0.42996654120759054, 0.4158588908310821, 0.42925585006099587, 0.5143246550956831, 0.5116105206269141, 0.5106141915445194, 0.44304939224649825, 0.42936260290082323, 0.39022568529665885, 0.4587187187540228, 0.49375464585324413, 0.49053468079158213, 0.47894663036120166]\n",
      "...............................\n",
      " *Accuracy\n",
      "[0.8612622415669206, 0.6006528835690969, 0.6860718171926007, 0.6773667029379761, 0.6806311207834603, 0.733949945593036, 0.6033732317736671, 0.8574537540805223, 0.809575625680087, 0.691512513601741, 0.6648531011969532, 0.5125136017410229, 0.8759521218715995, 0.8715995647442872, 0.8699673558215452, 0.6969532100108814, 0.515233949945593, 0.5930359085963003, 0.7274211099020674, 0.9096844396082698, 0.8732317736670294, 0.8471164309031556]\n",
      "0.06311207834602829\n"
     ]
    }
   ],
   "source": [
    "from sklearn.naive_bayes import GaussianNB\n",
    "score, predicted = classify(GaussianNB())\n"
   ]
  },
  {
   "cell_type": "code",
   "execution_count": null,
   "metadata": {},
   "outputs": [],
   "source": [
    "from sklearn.ensemble import GradientBoostingClassifier\n",
    "score, predicted = classify(GradientBoostingClassifier())\n"
   ]
  },
  {
   "cell_type": "markdown",
   "metadata": {},
   "source": [
    "### Predictions on Graph Sage embeddings"
   ]
  },
  {
   "cell_type": "code",
   "execution_count": 5,
   "metadata": {},
   "outputs": [],
   "source": [
    "# with 22 classes\n",
    "datf1 = np.load(\"processed-graphsage-mean-22-labels/graphsage-mean.human-features.npy\")\n",
    "label1 = np.load(\"processed-graphsage-mean-22-labels/graphsage-mean.human-labels.npy\")"
   ]
  },
  {
   "cell_type": "code",
   "execution_count": 6,
   "metadata": {},
   "outputs": [],
   "source": [
    "h_features= datf1\n",
    "h_labels = label1"
   ]
  },
  {
   "cell_type": "code",
   "execution_count": 7,
   "metadata": {},
   "outputs": [
    {
     "name": "stdout",
     "output_type": "stream",
     "text": [
      "(9190L, 800L)\n",
      "(9190L, 22L)\n"
     ]
    }
   ],
   "source": [
    "print h_features.shape\n",
    "print h_labels.shape"
   ]
  },
  {
   "cell_type": "code",
   "execution_count": 8,
   "metadata": {},
   "outputs": [],
   "source": [
    "from sklearn.model_selection import train_test_split\n",
    "x_Train, x_Test, y_Train,  y_Test = train_test_split(h_features,h_labels,test_size=0.2, random_state=1 )"
   ]
  },
  {
   "cell_type": "code",
   "execution_count": 10,
   "metadata": {},
   "outputs": [
    {
     "name": "stdout",
     "output_type": "stream",
     "text": [
      "Training -> GaussianNB(priors=None, var_smoothing=1e-09)  - Classifier.................\n",
      "F1 macro\n",
      "0.1245110138003375\n",
      "F1 Micro\n",
      "0.2378201523439497\n",
      "Recall macro\n",
      "0.35771483365371115\n",
      "Recall Micro\n",
      "0.4804792398264821\n",
      "Accuracy\n",
      "0.000544069640914037\n",
      "Total Classes: 22\n",
      " \n",
      " *Classwise Recall macro\n",
      "[0.498943661971831, 0.500231536422588, 0.49772817657586, 0.5031101886962321, 0.5004994422200713, 0.5030288763339611, 0.5069935232157379, 0.5024268498881423, 0.5043294748729532, 0.501304238776022, 0.4997966691274916, 0.5023924768358456, 0.501565496714422, 0.5012866981495685, 0.500706369886667, 0.49255679434154526, 0.5015298619375187, 0.49938918298596974, 0.4950753196862717, 0.5002800471251714, 0.5000269832703723, 0.4971256658247065]\n",
      "............................. \n",
      " *Classwise F1 Macro\n",
      "[0.4353302611367127, 0.4541227388456697, 0.4611887940339515, 0.393580110262032, 0.4123238851499721, 0.4387293078638356, 0.404571816795917, 0.4180504723796671, 0.4385648706027758, 0.4501326217098993, 0.443106694430244, 0.3922150234444303, 0.43267858506177226, 0.42855896590639103, 0.42976454491904686, 0.4397980452127734, 0.38498250591482325, 0.4435860425465959, 0.35876497715949107, 0.323579927734972, 0.39555946598361436, 0.4460360063085089]\n",
      "...............................\n",
      " *Classwise Accuracy\n",
      "[0.7709466811751904, 0.7529923830250272, 0.7399347116430903, 0.4940152339499456, 0.5310119695321001, 0.6974972796517954, 0.5745375408052231, 0.6186071817192601, 0.6936887921653971, 0.7480957562568009, 0.735582154515778, 0.4548422198041349, 0.6414581066376496, 0.6354733405875952, 0.6403699673558215, 0.7034820457018498, 0.4455930359085963, 0.7279651795429815, 0.5125136017410229, 0.43471164309031557, 0.5875952121871599, 0.7475516866158868]\n"
     ]
    }
   ],
   "source": [
    "from sklearn.naive_bayes import GaussianNB\n",
    "score, predicted = classify(GaussianNB())"
   ]
  },
  {
   "cell_type": "code",
   "execution_count": 11,
   "metadata": {},
   "outputs": [
    {
     "name": "stdout",
     "output_type": "stream",
     "text": [
      "Training -> SVC(C=1.0, cache_size=200, class_weight=None, coef0=0.0,\n",
      "  decision_function_shape='ovr', degree=3, gamma='auto_deprecated',\n",
      "  kernel='rbf', max_iter=-1, probability=False, random_state=None,\n",
      "  shrinking=True, tol=0.001, verbose=False)  - Classifier.................\n"
     ]
    },
    {
     "name": "stderr",
     "output_type": "stream",
     "text": [
      "C:\\Users\\ijet\\Anaconda3\\envs\\ml_py2\\lib\\site-packages\\sklearn\\svm\\base.py:196: FutureWarning: The default value of gamma will change from 'auto' to 'scale' in version 0.22 to account better for unscaled features. Set gamma explicitly to 'auto' or 'scale' to avoid this warning.\n",
      "  \"avoid this warning.\", FutureWarning)\n"
     ]
    },
    {
     "name": "stdout",
     "output_type": "stream",
     "text": [
      "F1 macro\n",
      "0.08687997373327722\n",
      "F1 Micro\n",
      "0.7899495127392275\n",
      "Recall macro\n",
      "0.09090909090909091\n",
      "Recall Micro\n",
      "0.6948977483990911\n",
      "Accuracy\n",
      "0.6441784548422198\n",
      "Total Classes: 22\n",
      " \n",
      " *Classwise Recall macro\n",
      "[0.49918389553862896, 0.48612622415669204, 0.47606093579978237, 0.4589227421109902, 0.45620239390642003, 0.48639825897714906, 0.4804134929270947, 0.4804134929270947, 0.48667029379760607, 0.4885745375408052, 0.48911860718171923, 0.44151251360174104, 0.47578890097932536, 0.4768770402611534, 0.4768770402611534, 0.47850924918389554, 0.4431447225244831, 0.48694232861806314, 0.485582154515778, 0.48721436343852015, 0.485310119695321, 0.48748639825897716]\n",
      "............................. \n",
      " *Classwise F1 Macro\n",
      "[0.49959161448407297, 0.4929655172413793, 0.487736900780379, 0.4785815602836879, 0.47709815078236134, 0.4931053502482074, 0.4900110987791343, 0.4900110987791343, 0.49324510614833195, 0.4942212438084755, 0.49449944994499445, 0.46893961282866226, 0.48759408976860885, 0.4881648565859092, 0.4881648565859092, 0.4890186266333055, 0.46985866743582344, 0.49338478500551264, 0.4926856196522219, 0.49352438688343897, 0.492545554942021, 0.49366391184573]\n",
      "...............................\n",
      " *Classwise Accuracy\n",
      "[0.9983677910772579, 0.9722524483133841, 0.9521218715995647, 0.9178454842219804, 0.9124047878128401, 0.9727965179542981, 0.9608269858541894, 0.9608269858541894, 0.9733405875952121, 0.9771490750816104, 0.9782372143634385, 0.8830250272034821, 0.9515778019586507, 0.9537540805223068, 0.9537540805223068, 0.9570184983677911, 0.8862894450489662, 0.9738846572361263, 0.971164309031556, 0.9744287268770403, 0.970620239390642, 0.9749727965179543]\n"
     ]
    },
    {
     "name": "stderr",
     "output_type": "stream",
     "text": [
      "C:\\Users\\ijet\\Anaconda3\\envs\\ml_py2\\lib\\site-packages\\sklearn\\metrics\\classification.py:1143: UndefinedMetricWarning: F-score is ill-defined and being set to 0.0 in labels with no predicted samples.\n",
      "  'precision', 'predicted', average, warn_for)\n",
      "C:\\Users\\ijet\\Anaconda3\\envs\\ml_py2\\lib\\site-packages\\sklearn\\metrics\\classification.py:1145: UndefinedMetricWarning: Recall is ill-defined and being set to 0.0 in labels with no true samples.\n",
      "  'recall', 'true', average, warn_for)\n",
      "C:\\Users\\ijet\\Anaconda3\\envs\\ml_py2\\lib\\site-packages\\sklearn\\metrics\\classification.py:1145: UndefinedMetricWarning: F-score is ill-defined and being set to 0.0 in labels with no true samples.\n",
      "  'recall', 'true', average, warn_for)\n"
     ]
    }
   ],
   "source": [
    "from sklearn.svm import SVC\n",
    "scoresvc, predictedsvc = classify(SVC(C=1.0, kernel='rbf'))"
   ]
  },
  {
   "cell_type": "code",
   "execution_count": 12,
   "metadata": {},
   "outputs": [
    {
     "name": "stdout",
     "output_type": "stream",
     "text": [
      "Training -> LogisticRegression(C=1.0, class_weight=None, dual=False, fit_intercept=True,\n",
      "          intercept_scaling=1, max_iter=100, multi_class='warn',\n",
      "          n_jobs=None, penalty='l2', random_state=None, solver='warn',\n",
      "          tol=0.0001, verbose=0, warm_start=False)  - Classifier.................\n"
     ]
    },
    {
     "name": "stderr",
     "output_type": "stream",
     "text": [
      "C:\\Users\\ijet\\Anaconda3\\envs\\ml_py2\\lib\\site-packages\\sklearn\\linear_model\\logistic.py:432: FutureWarning: Default solver will be changed to 'lbfgs' in 0.22. Specify a solver to silence this warning.\n",
      "  FutureWarning)\n"
     ]
    },
    {
     "name": "stdout",
     "output_type": "stream",
     "text": [
      "F1 macro\n",
      "0.08687997373327722\n",
      "F1 Micro\n",
      "0.7899495127392275\n",
      "Recall macro\n",
      "0.09090909090909091\n",
      "Recall Micro\n",
      "0.6948977483990911\n",
      "Accuracy\n",
      "0.6441784548422198\n",
      "Total Classes: 22\n",
      " \n",
      " *Classwise Recall macro\n",
      "[0.49918389553862896, 0.48612622415669204, 0.47606093579978237, 0.4589227421109902, 0.45620239390642003, 0.48639825897714906, 0.4804134929270947, 0.4804134929270947, 0.48667029379760607, 0.4885745375408052, 0.48911860718171923, 0.44151251360174104, 0.47578890097932536, 0.4768770402611534, 0.4768770402611534, 0.47850924918389554, 0.4431447225244831, 0.48694232861806314, 0.485582154515778, 0.48721436343852015, 0.485310119695321, 0.48748639825897716]\n",
      "............................. \n",
      " *Classwise F1 Macro\n",
      "[0.49959161448407297, 0.4929655172413793, 0.487736900780379, 0.4785815602836879, 0.47709815078236134, 0.4931053502482074, 0.4900110987791343, 0.4900110987791343, 0.49324510614833195, 0.4942212438084755, 0.49449944994499445, 0.46893961282866226, 0.48759408976860885, 0.4881648565859092, 0.4881648565859092, 0.4890186266333055, 0.46985866743582344, 0.49338478500551264, 0.4926856196522219, 0.49352438688343897, 0.492545554942021, 0.49366391184573]\n",
      "...............................\n",
      " *Classwise Accuracy\n",
      "[0.9983677910772579, 0.9722524483133841, 0.9521218715995647, 0.9178454842219804, 0.9124047878128401, 0.9727965179542981, 0.9608269858541894, 0.9608269858541894, 0.9733405875952121, 0.9771490750816104, 0.9782372143634385, 0.8830250272034821, 0.9515778019586507, 0.9537540805223068, 0.9537540805223068, 0.9570184983677911, 0.8862894450489662, 0.9738846572361263, 0.971164309031556, 0.9744287268770403, 0.970620239390642, 0.9749727965179543]\n"
     ]
    }
   ],
   "source": [
    "from sklearn.linear_model import LogisticRegression\n",
    "score, predicted = classify(LogisticRegression())"
   ]
  }
 ],
 "metadata": {
  "kernelspec": {
   "display_name": "ml_py2",
   "language": "python",
   "name": "ml_py2"
  },
  "language_info": {
   "codemirror_mode": {
    "name": "ipython",
    "version": 2
   },
   "file_extension": ".py",
   "mimetype": "text/x-python",
   "name": "python",
   "nbconvert_exporter": "python",
   "pygments_lexer": "ipython2",
   "version": "2.7.15"
  }
 },
 "nbformat": 4,
 "nbformat_minor": 2
}
